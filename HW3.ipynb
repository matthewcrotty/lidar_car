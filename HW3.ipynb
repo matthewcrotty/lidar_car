{
  "nbformat": 4,
  "nbformat_minor": 0,
  "metadata": {
    "colab": {
      "name": "HW3.ipynb",
      "provenance": [],
      "collapsed_sections": []
    },
    "kernelspec": {
      "name": "python3",
      "display_name": "Python 3"
    },
    "language_info": {
      "name": "python"
    }
  },
  "cells": [
    {
      "cell_type": "markdown",
      "source": [
        "# First mount Google Drive, so you have access to the Car notebook"
      ],
      "metadata": {
        "id": "77AHHDHMGTot"
      }
    },
    {
      "cell_type": "code",
      "execution_count": 1,
      "metadata": {
        "id": "6g1sHAyaD81z",
        "colab": {
          "base_uri": "https://localhost:8080/"
        },
        "outputId": "6b9a8d93-3d44-40d8-96db-6f7cc478709b"
      },
      "outputs": [
        {
          "output_type": "stream",
          "name": "stdout",
          "text": [
            "Mounted at mnt\n",
            "/content/mnt/My Drive/Colab Notebooks/RPI/CSCI4965 Spring 2022\n"
          ]
        }
      ],
      "source": [
        "from google.colab import drive\n",
        "drive.mount(\"mnt\")\n",
        "\n",
        "%cd \"mnt/My Drive/Colab Notebooks/RPI/CSCI4965 Spring 2022\""
      ]
    },
    {
      "cell_type": "markdown",
      "source": [
        "# Install ipynb package"
      ],
      "metadata": {
        "id": "LK9phpdjGdHL"
      }
    },
    {
      "cell_type": "code",
      "source": [
        "!pip install import-ipynb\n",
        "import import_ipynb"
      ],
      "metadata": {
        "colab": {
          "base_uri": "https://localhost:8080/"
        },
        "id": "ARjnaOfsGI9-",
        "outputId": "a6f1b5b5-88e0-4bb6-ef57-b3747f45f435"
      },
      "execution_count": 2,
      "outputs": [
        {
          "output_type": "stream",
          "name": "stdout",
          "text": [
            "Collecting import-ipynb\n",
            "  Downloading import-ipynb-0.1.3.tar.gz (4.0 kB)\n",
            "Building wheels for collected packages: import-ipynb\n",
            "  Building wheel for import-ipynb (setup.py) ... \u001b[?25l\u001b[?25hdone\n",
            "  Created wheel for import-ipynb: filename=import_ipynb-0.1.3-py3-none-any.whl size=2975 sha256=58eaebb59bfaa78606f7e7f01c78bc5d58eea849d618b1ab218b834b3b57c447\n",
            "  Stored in directory: /root/.cache/pip/wheels/b1/5e/dc/79780689896a056199b0b9f24471e3ee184fbd816df355d5f0\n",
            "Successfully built import-ipynb\n",
            "Installing collected packages: import-ipynb\n",
            "Successfully installed import-ipynb-0.1.3\n"
          ]
        }
      ]
    },
    {
      "cell_type": "markdown",
      "source": [
        "# Set up Car world (with state feedack)"
      ],
      "metadata": {
        "id": "biwVBcv1IBNd"
      }
    },
    {
      "cell_type": "code",
      "source": [
        "import os\n",
        "import sys\n",
        "\n",
        "from Car import World\n",
        "from Car import square_hall_right\n",
        "\n",
        "# hallway dimensions\n",
        "hall_width = 2\n",
        "hall_length = 30\n",
        "\n",
        "# car starting position and velocity\n",
        "car_dist_s = 1 # distance to left wall\n",
        "car_dist_f = 28 # distance to front wall\n",
        "car_heading = 0.1 # relative to walls\n",
        "car_V = 2.4\n",
        "\n",
        "# constant car throttle\n",
        "throttle = 16\n",
        "\n",
        "# car dynamics noise\n",
        "init_pos_noise = 0\n",
        "init_heading_noise = 0\n",
        "front_pos_noise = 0\n",
        "\n",
        "episode_length = 100\n",
        "time_step = 0.1\n",
        "\n",
        "# set this to false if you'd like to use lidar\n",
        "state_feedback = True\n",
        "\n",
        "# lidar parameters\n",
        "lidar_field_of_view = 115\n",
        "lidar_num_rays = 21\n",
        "\n",
        "# various lidar settings\n",
        "lidar_noise = 0\n",
        "missing_lidar_rays = 0\n",
        "lidar_missing_in_turn_only = False\n",
        "\n",
        "# set up a square hallway with right turns\n",
        "(hallWidths, hallLengths, turns) = square_hall_right(hall_width, hall_length)\n",
        "\n",
        "# create the environment\n",
        "w = World(hallWidths, hallLengths, turns,\\\n",
        "          car_dist_s, car_dist_f, car_heading, car_V,\\\n",
        "          episode_length, time_step, lidar_field_of_view,\\\n",
        "          lidar_num_rays, lidar_noise, missing_lidar_rays,\\\n",
        "          lidar_missing_in_turn_only, state_feedback=state_feedback)"
      ],
      "metadata": {
        "colab": {
          "base_uri": "https://localhost:8080/"
        },
        "id": "RsV1sVpJGg8r",
        "outputId": "64753dd8-4245-47a6-cfe2-5a7a20976a63"
      },
      "execution_count": 35,
      "outputs": [
        {
          "output_type": "stream",
          "name": "stderr",
          "text": [
            "/usr/local/lib/python3.7/dist-packages/gym/logger.py:30: UserWarning: \u001b[33mWARN: Box bound precision lowered by casting to float32\u001b[0m\n",
            "  warnings.warn(colorize('%s: %s'%('WARN', msg % args), 'yellow'))\n"
          ]
        }
      ]
    },
    {
      "cell_type": "markdown",
      "source": [
        "# Plot Lidar\n",
        "\n",
        "This is just an example illustrating how to plot LiDAR in case you need to"
      ],
      "metadata": {
        "id": "0Ztcf5SGnoxb"
      }
    },
    {
      "cell_type": "code",
      "source": [
        "w.plot_lidar()"
      ],
      "metadata": {
        "colab": {
          "base_uri": "https://localhost:8080/",
          "height": 265
        },
        "id": "032jtoiZnyCj",
        "outputId": "4d3aa672-9764-49c9-a512-bfd9025c80d2"
      },
      "execution_count": null,
      "outputs": [
        {
          "output_type": "display_data",
          "data": {
            "text/plain": [
              "<Figure size 432x288 with 1 Axes>"
            ],
            "image/png": "[encoded data removed]"
          },
          "metadata": {
            "needs_background": "light"
          }
        }
      ]
    },
    {
      "cell_type": "markdown",
      "source": [
        "# PID Controller"
      ],
      "metadata": {
        "id": "qmG_tG5nn2F6"
      }
    },
    {
      "cell_type": "code",
      "source": [
        "def pid_control(error, int_error, d_error):\n",
        "    u = -18*error + 0.2 * int_error + 4*d_error\n",
        "    return u"
      ],
      "metadata": {
        "id": "VePkDSi4KUJ2"
      },
      "execution_count": 4,
      "outputs": []
    },
    {
      "cell_type": "markdown",
      "source": [
        "# Control Loop"
      ],
      "metadata": {
        "id": "kgroNkakI4iR"
      }
    },
    {
      "cell_type": "code",
      "source": [
        "''' observation is an array of 5 elements:\n",
        "[distance to left wall,\n",
        "distance to right wall,\n",
        "distance to front wall,\n",
        "distance to turn,\n",
        "heading w.r.t hallway]\n",
        "'''\n",
        "\n",
        "# initial position noise parameters\n",
        "side_pos_noise = 0\n",
        "heading_noise = 0\n",
        "front_pos_noise = 0\n",
        "\n",
        "# reset the environment\n",
        "observation = w.reset(pos_noise=side_pos_noise, heading_noise=heading_noise, front_pos_noise=front_pos_noise)\n",
        "\n",
        "# your code goes here and in the loop below\n",
        "pos_reference = 1\n",
        "placeholder_err = 0\n",
        "placeholder_int_err = 0 \n",
        "placeholder_d_err = 0 \n",
        "\n",
        "delta = pid_control(placeholder_err, placeholder_int_err, placeholder_d_err)\n",
        "\n",
        "for e in range(episode_length):\n",
        "\n",
        "    observation, reward, done, info = w.step(delta, throttle)\n",
        "\n",
        "    # Calculate Errors\n",
        "    placeholder_err = pos_reference - observation[0] \n",
        "    if e != 0:\n",
        "        placeholder_int_err = ((placeholder_err ** 2)/2 - (previous_error ** 2)/2 )/ time_step\n",
        "        placeholder_d_err = -(placeholder_err - previous_error) / time_step\n",
        "\n",
        "    delta = pid_control(placeholder_err, placeholder_int_err, placeholder_d_err)\n",
        "\n",
        "    previous_error = placeholder_err\n",
        "\n",
        "    if done:        \n",
        "        if e < episode_length - 1:\n",
        "          print('Unsafe!')\n",
        "          break\n",
        "\n",
        "w.plot_trajectory()\n"
      ],
      "metadata": {
        "colab": {
          "base_uri": "https://localhost:8080/",
          "height": 265
        },
        "id": "ax8KRFc1IFBh",
        "outputId": "fef3bb2d-b9a9-4397-c4e1-f73a62a48f35"
      },
      "execution_count": 23,
      "outputs": [
        {
          "output_type": "display_data",
          "data": {
            "text/plain": [
              "<Figure size 432x288 with 1 Axes>"
            ],
            "image/png": "[encoded data removed]"
          },
          "metadata": {
            "needs_background": "light"
          }
        }
      ]
    },
    {
      "cell_type": "markdown",
      "source": [
        "# Set up Car world (with lidar feedback)\n",
        "\n",
        "This code is reusing variables from above, so make sure you run those cells first"
      ],
      "metadata": {
        "id": "KHY3FM1wY87B"
      }
    },
    {
      "cell_type": "code",
      "source": [
        "# Set this to false if you'd like to use lidar\n",
        "state_feedback = False\n",
        "\n",
        "w_true = World(hallWidths, hallLengths, turns,\\\n",
        "          car_dist_s, car_dist_f, car_heading, car_V,\\\n",
        "          episode_length, time_step, lidar_field_of_view,\\\n",
        "          lidar_num_rays, lidar_noise, missing_lidar_rays,\\\n",
        "          lidar_missing_in_turn_only, state_feedback=state_feedback)\n",
        "\n",
        "throttle = 16"
      ],
      "metadata": {
        "colab": {
          "base_uri": "https://localhost:8080/"
        },
        "id": "Q-1eYA6JY4DU",
        "outputId": "0358f858-9284-4bb4-c200-b79277a978df"
      },
      "execution_count": 36,
      "outputs": [
        {
          "output_type": "stream",
          "name": "stderr",
          "text": [
            "/usr/local/lib/python3.7/dist-packages/gym/logger.py:30: UserWarning: \u001b[33mWARN: Box bound precision lowered by casting to float32\u001b[0m\n",
            "  warnings.warn(colorize('%s: %s'%('WARN', msg % args), 'yellow'))\n"
          ]
        }
      ]
    },
    {
      "cell_type": "markdown",
      "source": [
        "# Control and Estimation loop"
      ],
      "metadata": {
        "id": "IaRUhVZkdE1H"
      }
    },
    {
      "cell_type": "code",
      "source": [
        "import copy\n",
        "import math\n",
        "import matplotlib.pyplot as plt\n",
        "import numpy as np\n",
        "import scipy.stats\n",
        "\n",
        "# PARTICLE FILTER PARAMETERS \n",
        "# initialize particles\n",
        "num_particles = 50\n",
        "\n",
        "# initial noise parameters\n",
        "initial_x_noise = 0.3\n",
        "initial_y_noise = 0.3\n",
        "initial_theta_noise = 0.1\n",
        "\n",
        "# dynamics noise parameters\n",
        "x_dynamics_noise = 0.05\n",
        "y_dynamics_noise = 0.05\n",
        "v_dynamics_noise = 0.01\n",
        "theta_dynamics_noise = 0.01\n",
        "\n",
        "observation = w_true.reset()\n",
        "\n",
        "# initialize data holders\n",
        "allX = []\n",
        "allY = []\n",
        "allTheta = []\n",
        "allLidar = []\n",
        "allV = []\n",
        "allTimes = []\n",
        "allParticles = []\n",
        "\n",
        "# create particles\n",
        "particle_list = []\n",
        "for i in range(num_particles):\n",
        "\n",
        "    init_x = car_dist_s + initial_x_noise * (2 * np.random.random() - 1)\n",
        "    init_y = car_dist_f + initial_x_noise * (2 * np.random.random() - 1)\n",
        "    init_theta = car_heading + initial_theta_noise * (2 * np.random.random() - 1)\n",
        "\n",
        "    w = World(hallWidths, hallLengths, turns,\\\n",
        "              init_x, init_y, init_theta, car_V,\\\n",
        "              episode_length, time_step, lidar_field_of_view,\\\n",
        "              lidar_num_rays, lidar_noise, missing_lidar_rays)\n",
        "\n",
        "    particle_list.append(w)\n",
        "\n",
        "allParticles.append(particle_list)\n",
        "\n",
        "# your code goes here and in the loop below\n",
        "pos_reference = 1\n",
        "placeholder_err = 0\n",
        "placeholder_int_err = 0\n",
        "placeholder_d_err = 0\n",
        "\n",
        "delta = pid_control(placeholder_err, placeholder_int_err, placeholder_d_err)\n",
        "\n",
        "for e in range(episode_length):\n",
        "\n",
        "    observation, reward, done, info = w_true.step(delta, throttle)\n",
        "\n",
        "    # compute particle weights\n",
        "    \n",
        "    scans = []\n",
        "    for particle in particle_list:\n",
        "        scans.append(particle.scan_lidar())\n",
        "    means = [np.average(x, axis=0) for x in np.transpose(scans)]\n",
        "    std = [np.std(x, axis=0) for x in np.transpose(scans)]\n",
        "    dists = []\n",
        "    for i in range(len(scans[0])):\n",
        "        dists.append(scipy.stats.norm(loc=means[i], scale=std[i]))\n",
        "    weights = []\n",
        "    for particle in particle_list:\n",
        "        scan = particle.scan_lidar()\n",
        "        weight = 0.000001\n",
        "        for i in range(len(scan)):\n",
        "            prob = float(dists[i].pdf(scan[i]).item())\n",
        "            if not math.isnan(prob):\n",
        "                weight += prob\n",
        "        if not math.isnan(weight):\n",
        "            weights.append(weight/len(scan))\n",
        "        else:\n",
        "            weights.append(0.000001)\n",
        "    \n",
        "    # normalize weights\n",
        "    weights = [(w / sum(weights)) for w in weights]\n",
        "\n",
        "    # resample particles\n",
        "    new_particle_list = []\n",
        "    indices = [i for i, _ in enumerate(weights)]\n",
        "    for i in indices:\n",
        "        selected_index = np.random.choice(indices, p=weights)\n",
        "        particle = particle_list[selected_index]\n",
        "        new_particle_list.append(particle)\n",
        "    particle_list = new_particle_list\n",
        "\n",
        "    # compute state estimates and errors for the pid controller\n",
        "    avg_observation = 0\n",
        "    for i in range(len(particle_list)):\n",
        "        avg_observation += weights[i] * particle_list[i].car_dist_s\n",
        "    avg_observation /= sum(weights)\n",
        "    #print(avg_observation, observation[0], avg_observation - observation[0])\n",
        "\n",
        "    placeholder_err = pos_reference - avg_observation\n",
        "    if e != 0:\n",
        "        placeholder_int_err = ((placeholder_err ** 2)/2 - (previous_error ** 2)/2 )/ time_step\n",
        "        placeholder_d_err = -(placeholder_err - previous_error) / time_step\n",
        "\n",
        "    delta = pid_control(placeholder_err, placeholder_int_err, placeholder_d_err) \n",
        "\n",
        "    previous_error = placeholder_err\n",
        "\n",
        "    # progress particles  \n",
        "    for particle in particle_list:\n",
        "        particle.step(delta, throttle)\n",
        "\n",
        "    new_particle_list = []\n",
        "    for particle in particle_list:\n",
        "        dynamic_x = particle.car_dist_s + x_dynamics_noise * (2 * np.random.random() - 1)\n",
        "        dynamic_y = particle.car_dist_f + y_dynamics_noise * (2 * np.random.random() - 1)\n",
        "        dynamic_theta = particle.car_heading + theta_dynamics_noise * (2 * np.random.random() - 1)\n",
        "\n",
        "        w = World(hallWidths, hallLengths, turns,\\\n",
        "              dynamic_x, dynamic_y, dynamic_theta, car_V,\\\n",
        "              episode_length, time_step, lidar_field_of_view,\\\n",
        "              lidar_num_rays, lidar_noise, missing_lidar_rays)\n",
        "\n",
        "        new_particle_list.append(w)\n",
        "\n",
        "    particle_list = new_particle_list\n",
        "\n",
        "    # break if done\n",
        "    if done:        \n",
        "        if e < episode_length - 1:\n",
        "          print('Unsafe!')\n",
        "          break\n",
        "\n",
        "# plot trajectories\n",
        "fig = plt.figure()\n",
        "w_true.plotHalls()\n",
        "\n",
        "# true trajectory \n",
        "plt.plot(w_true.allX, w_true.allY, 'r--')\n",
        "\n",
        "# estimated trajectory\n",
        "plt.plot(allX, allY, 'g--')"
      ],
      "metadata": {
        "colab": {
          "base_uri": "https://localhost:8080/",
          "height": 352
        },
        "id": "uONWdDj_c_IQ",
        "outputId": "91c27e19-d389-478b-983a-af3cb2be00be"
      },
      "execution_count": 65,
      "outputs": [
        {
          "output_type": "stream",
          "name": "stderr",
          "text": [
            "/usr/local/lib/python3.7/dist-packages/gym/logger.py:30: UserWarning: \u001b[33mWARN: Box bound precision lowered by casting to float32\u001b[0m\n",
            "  warnings.warn(colorize('%s: %s'%('WARN', msg % args), 'yellow'))\n",
            "/usr/local/lib/python3.7/dist-packages/scipy/stats/_distn_infrastructure.py:1740: RuntimeWarning: invalid value encountered in double_scalars\n",
            "  x = np.asarray((x - loc)/scale, dtype=dtyp)\n"
          ]
        },
        {
          "output_type": "execute_result",
          "data": {
            "text/plain": [
              "[<matplotlib.lines.Line2D at 0x7f5006527710>]"
            ]
          },
          "metadata": {},
          "execution_count": 65
        },
        {
          "output_type": "display_data",
          "data": {
            "text/plain": [
              "<Figure size 432x288 with 1 Axes>"
            ],
            "image/png": "[encoded data removed]"
          },
          "metadata": {
            "needs_background": "light"
          }
        }
      ]
    },
    {
      "cell_type": "code",
      "source": [
        ""
      ],
      "metadata": {
        "id": "RBRlap0mo7Ir"
      },
      "execution_count": null,
      "outputs": []
    }
  ]
}